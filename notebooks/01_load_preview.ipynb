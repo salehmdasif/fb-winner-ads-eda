{
 "cells": [
  {
   "cell_type": "code",
   "execution_count": 13,
   "outputs": [],
   "source": [
    "import pandas as pd"
   ],
   "metadata": {
    "collapsed": false,
    "ExecuteTime": {
     "end_time": "2025-07-18T18:21:32.808186400Z",
     "start_time": "2025-07-18T18:21:32.785116800Z"
    }
   }
  },
  {
   "cell_type": "code",
   "execution_count": 14,
   "outputs": [],
   "source": [
    "file_path = \"../data/basic_cleaned_raw_data.csv\""
   ],
   "metadata": {
    "collapsed": false,
    "ExecuteTime": {
     "end_time": "2025-07-18T18:21:32.853273Z",
     "start_time": "2025-07-18T18:21:32.793502100Z"
    }
   }
  },
  {
   "cell_type": "code",
   "execution_count": 15,
   "outputs": [
    {
     "data": {
      "text/plain": "   serial     ad_name ad_set_name  amount_spent  max_roas  scroll_stop_30  \\\n0       1   ad_id_662  ad_set_034          0.00       0.0            0.00   \n1       2  ad_id_1598  ad_set_114          0.00       0.0            0.00   \n2       3  ad_id_1412  ad_set_010          0.00       0.0            0.00   \n3       4   ad_id_369  ad_set_007         40.48       0.0           45.17   \n4       5   ad_id_239  ad_set_010         41.96       0.0           50.00   \n\n   hook_hold_rate_40  hold_rate_20  frequency  reach  results  result_rate  \\\n0               0.00          0.00       0.00      0        0          0.0   \n1               0.00          0.00       0.00      0        0          0.0   \n2               0.00          0.00       0.00      0        0          0.0   \n3              43.34         19.58       1.26    675        0          0.0   \n4              41.39         20.69       1.31    728        0          0.0   \n\n   cpr   cpc   ctr  3_sec_video  25_play  50_play  75_play  100_play  \n0  0.0  0.00  0.00            0        0        0        0         0  \n1  0.0  0.00  0.00            0        0        0        0         0  \n2  0.0  0.00  0.00            0        0        0        0         0  \n3  0.0  1.56  3.07          383      208      134      101        59  \n4  0.0  1.23  3.57          476      251      157      125        75  ",
      "text/html": "<div>\n<style scoped>\n    .dataframe tbody tr th:only-of-type {\n        vertical-align: middle;\n    }\n\n    .dataframe tbody tr th {\n        vertical-align: top;\n    }\n\n    .dataframe thead th {\n        text-align: right;\n    }\n</style>\n<table border=\"1\" class=\"dataframe\">\n  <thead>\n    <tr style=\"text-align: right;\">\n      <th></th>\n      <th>serial</th>\n      <th>ad_name</th>\n      <th>ad_set_name</th>\n      <th>amount_spent</th>\n      <th>max_roas</th>\n      <th>scroll_stop_30</th>\n      <th>hook_hold_rate_40</th>\n      <th>hold_rate_20</th>\n      <th>frequency</th>\n      <th>reach</th>\n      <th>results</th>\n      <th>result_rate</th>\n      <th>cpr</th>\n      <th>cpc</th>\n      <th>ctr</th>\n      <th>3_sec_video</th>\n      <th>25_play</th>\n      <th>50_play</th>\n      <th>75_play</th>\n      <th>100_play</th>\n    </tr>\n  </thead>\n  <tbody>\n    <tr>\n      <th>0</th>\n      <td>1</td>\n      <td>ad_id_662</td>\n      <td>ad_set_034</td>\n      <td>0.00</td>\n      <td>0.0</td>\n      <td>0.00</td>\n      <td>0.00</td>\n      <td>0.00</td>\n      <td>0.00</td>\n      <td>0</td>\n      <td>0</td>\n      <td>0.0</td>\n      <td>0.0</td>\n      <td>0.00</td>\n      <td>0.00</td>\n      <td>0</td>\n      <td>0</td>\n      <td>0</td>\n      <td>0</td>\n      <td>0</td>\n    </tr>\n    <tr>\n      <th>1</th>\n      <td>2</td>\n      <td>ad_id_1598</td>\n      <td>ad_set_114</td>\n      <td>0.00</td>\n      <td>0.0</td>\n      <td>0.00</td>\n      <td>0.00</td>\n      <td>0.00</td>\n      <td>0.00</td>\n      <td>0</td>\n      <td>0</td>\n      <td>0.0</td>\n      <td>0.0</td>\n      <td>0.00</td>\n      <td>0.00</td>\n      <td>0</td>\n      <td>0</td>\n      <td>0</td>\n      <td>0</td>\n      <td>0</td>\n    </tr>\n    <tr>\n      <th>2</th>\n      <td>3</td>\n      <td>ad_id_1412</td>\n      <td>ad_set_010</td>\n      <td>0.00</td>\n      <td>0.0</td>\n      <td>0.00</td>\n      <td>0.00</td>\n      <td>0.00</td>\n      <td>0.00</td>\n      <td>0</td>\n      <td>0</td>\n      <td>0.0</td>\n      <td>0.0</td>\n      <td>0.00</td>\n      <td>0.00</td>\n      <td>0</td>\n      <td>0</td>\n      <td>0</td>\n      <td>0</td>\n      <td>0</td>\n    </tr>\n    <tr>\n      <th>3</th>\n      <td>4</td>\n      <td>ad_id_369</td>\n      <td>ad_set_007</td>\n      <td>40.48</td>\n      <td>0.0</td>\n      <td>45.17</td>\n      <td>43.34</td>\n      <td>19.58</td>\n      <td>1.26</td>\n      <td>675</td>\n      <td>0</td>\n      <td>0.0</td>\n      <td>0.0</td>\n      <td>1.56</td>\n      <td>3.07</td>\n      <td>383</td>\n      <td>208</td>\n      <td>134</td>\n      <td>101</td>\n      <td>59</td>\n    </tr>\n    <tr>\n      <th>4</th>\n      <td>5</td>\n      <td>ad_id_239</td>\n      <td>ad_set_010</td>\n      <td>41.96</td>\n      <td>0.0</td>\n      <td>50.00</td>\n      <td>41.39</td>\n      <td>20.69</td>\n      <td>1.31</td>\n      <td>728</td>\n      <td>0</td>\n      <td>0.0</td>\n      <td>0.0</td>\n      <td>1.23</td>\n      <td>3.57</td>\n      <td>476</td>\n      <td>251</td>\n      <td>157</td>\n      <td>125</td>\n      <td>75</td>\n    </tr>\n  </tbody>\n</table>\n</div>"
     },
     "execution_count": 15,
     "metadata": {},
     "output_type": "execute_result"
    }
   ],
   "source": [
    "df = pd.read_csv(file_path)\n",
    "df.head()"
   ],
   "metadata": {
    "collapsed": false,
    "ExecuteTime": {
     "end_time": "2025-07-18T18:21:32.981992900Z",
     "start_time": "2025-07-18T18:21:32.824010300Z"
    }
   }
  },
  {
   "cell_type": "code",
   "execution_count": 16,
   "outputs": [
    {
     "name": "stdout",
     "output_type": "stream",
     "text": [
      "<class 'pandas.core.frame.DataFrame'>\n",
      "RangeIndex: 1800 entries, 0 to 1799\n",
      "Data columns (total 20 columns):\n",
      " #   Column             Non-Null Count  Dtype  \n",
      "---  ------             --------------  -----  \n",
      " 0   serial             1800 non-null   int64  \n",
      " 1   ad_name            1800 non-null   object \n",
      " 2   ad_set_name        1800 non-null   object \n",
      " 3   amount_spent       1800 non-null   float64\n",
      " 4   max_roas           1800 non-null   float64\n",
      " 5   scroll_stop_30     1800 non-null   float64\n",
      " 6   hook_hold_rate_40  1800 non-null   float64\n",
      " 7   hold_rate_20       1800 non-null   float64\n",
      " 8   frequency          1800 non-null   float64\n",
      " 9   reach              1800 non-null   int64  \n",
      " 10  results            1800 non-null   int64  \n",
      " 11  result_rate        1800 non-null   float64\n",
      " 12  cpr                1800 non-null   float64\n",
      " 13  cpc                1800 non-null   float64\n",
      " 14  ctr                1800 non-null   float64\n",
      " 15  3_sec_video        1800 non-null   int64  \n",
      " 16  25_play            1800 non-null   int64  \n",
      " 17  50_play            1800 non-null   int64  \n",
      " 18  75_play            1800 non-null   int64  \n",
      " 19  100_play           1800 non-null   int64  \n",
      "dtypes: float64(10), int64(8), object(2)\n",
      "memory usage: 281.4+ KB\n"
     ]
    }
   ],
   "source": [
    "df.info()"
   ],
   "metadata": {
    "collapsed": false,
    "ExecuteTime": {
     "end_time": "2025-07-18T18:21:33.014693600Z",
     "start_time": "2025-07-18T18:21:32.976481300Z"
    }
   }
  },
  {
   "cell_type": "code",
   "execution_count": 17,
   "outputs": [
    {
     "data": {
      "text/plain": "           serial  amount_spent     max_roas  scroll_stop_30  \\\ncount  1800.00000   1800.000000  1800.000000     1800.000000   \nmean    900.50000    111.656894     0.450228       34.586017   \nstd     519.75956    941.701315     1.573660       18.474945   \nmin       1.00000      0.000000     0.000000        0.000000   \n25%     450.75000      1.097500     0.000000       26.770000   \n50%     900.50000      4.070000     0.000000       37.245000   \n75%    1350.25000     18.127500     0.000000       45.967500   \nmax    1800.00000  24680.510000    41.010000      100.000000   \n\n       hook_hold_rate_40  hold_rate_20    frequency          reach  \\\ncount        1800.000000   1800.000000  1800.000000    1800.000000   \nmean           25.960800     10.712933     1.074328    3067.007222   \nstd            17.813552      9.390425     0.169152   17345.366288   \nmin             0.000000      0.000000     0.000000       0.000000   \n25%            14.875000      4.170000     1.010000      40.000000   \n50%            26.550000     10.105000     1.040000     180.500000   \n75%            36.530000     15.380000     1.090000     902.250000   \nmax           100.000000    100.000000     3.090000  430061.000000   \n\n             results  result_rate          cpr          cpc          ctr  \\\ncount    1800.000000  1800.000000  1800.000000  1800.000000  1800.000000   \nmean      166.780000    36.254911     5.227633     0.906506     2.349506   \nstd      4455.079677   441.630450    13.012698     0.990188     3.442530   \nmin         0.000000     0.000000     0.000000     0.000000     0.000000   \n25%         0.000000     0.000000     0.000000     0.120000     0.455000   \n50%         0.000000     0.000000     0.000000     0.800000     1.990000   \n75%         0.000000     0.000000     0.000000     1.190000     3.190000   \nmax    184006.000000  8000.000000   133.550000     9.930000   100.000000   \n\n         3_sec_video        25_play        50_play       75_play      100_play  \ncount    1800.000000    1800.000000    1800.000000   1800.000000   1800.000000  \nmean     1783.279444     959.302222     614.128889    440.925556    268.488889  \nstd     12979.479821    7306.461922    4867.647816   3442.192814   2172.589395  \nmin         0.000000       0.000000       0.000000      0.000000      0.000000  \n25%         8.000000       4.000000       2.000000      1.000000      1.000000  \n50%        46.500000      23.000000      13.000000      9.000000      6.000000  \n75%       357.000000     165.500000      94.250000     65.000000     40.250000  \nmax    333920.000000  180048.000000  120477.000000  93521.000000  64046.000000  ",
      "text/html": "<div>\n<style scoped>\n    .dataframe tbody tr th:only-of-type {\n        vertical-align: middle;\n    }\n\n    .dataframe tbody tr th {\n        vertical-align: top;\n    }\n\n    .dataframe thead th {\n        text-align: right;\n    }\n</style>\n<table border=\"1\" class=\"dataframe\">\n  <thead>\n    <tr style=\"text-align: right;\">\n      <th></th>\n      <th>serial</th>\n      <th>amount_spent</th>\n      <th>max_roas</th>\n      <th>scroll_stop_30</th>\n      <th>hook_hold_rate_40</th>\n      <th>hold_rate_20</th>\n      <th>frequency</th>\n      <th>reach</th>\n      <th>results</th>\n      <th>result_rate</th>\n      <th>cpr</th>\n      <th>cpc</th>\n      <th>ctr</th>\n      <th>3_sec_video</th>\n      <th>25_play</th>\n      <th>50_play</th>\n      <th>75_play</th>\n      <th>100_play</th>\n    </tr>\n  </thead>\n  <tbody>\n    <tr>\n      <th>count</th>\n      <td>1800.00000</td>\n      <td>1800.000000</td>\n      <td>1800.000000</td>\n      <td>1800.000000</td>\n      <td>1800.000000</td>\n      <td>1800.000000</td>\n      <td>1800.000000</td>\n      <td>1800.000000</td>\n      <td>1800.000000</td>\n      <td>1800.000000</td>\n      <td>1800.000000</td>\n      <td>1800.000000</td>\n      <td>1800.000000</td>\n      <td>1800.000000</td>\n      <td>1800.000000</td>\n      <td>1800.000000</td>\n      <td>1800.000000</td>\n      <td>1800.000000</td>\n    </tr>\n    <tr>\n      <th>mean</th>\n      <td>900.50000</td>\n      <td>111.656894</td>\n      <td>0.450228</td>\n      <td>34.586017</td>\n      <td>25.960800</td>\n      <td>10.712933</td>\n      <td>1.074328</td>\n      <td>3067.007222</td>\n      <td>166.780000</td>\n      <td>36.254911</td>\n      <td>5.227633</td>\n      <td>0.906506</td>\n      <td>2.349506</td>\n      <td>1783.279444</td>\n      <td>959.302222</td>\n      <td>614.128889</td>\n      <td>440.925556</td>\n      <td>268.488889</td>\n    </tr>\n    <tr>\n      <th>std</th>\n      <td>519.75956</td>\n      <td>941.701315</td>\n      <td>1.573660</td>\n      <td>18.474945</td>\n      <td>17.813552</td>\n      <td>9.390425</td>\n      <td>0.169152</td>\n      <td>17345.366288</td>\n      <td>4455.079677</td>\n      <td>441.630450</td>\n      <td>13.012698</td>\n      <td>0.990188</td>\n      <td>3.442530</td>\n      <td>12979.479821</td>\n      <td>7306.461922</td>\n      <td>4867.647816</td>\n      <td>3442.192814</td>\n      <td>2172.589395</td>\n    </tr>\n    <tr>\n      <th>min</th>\n      <td>1.00000</td>\n      <td>0.000000</td>\n      <td>0.000000</td>\n      <td>0.000000</td>\n      <td>0.000000</td>\n      <td>0.000000</td>\n      <td>0.000000</td>\n      <td>0.000000</td>\n      <td>0.000000</td>\n      <td>0.000000</td>\n      <td>0.000000</td>\n      <td>0.000000</td>\n      <td>0.000000</td>\n      <td>0.000000</td>\n      <td>0.000000</td>\n      <td>0.000000</td>\n      <td>0.000000</td>\n      <td>0.000000</td>\n    </tr>\n    <tr>\n      <th>25%</th>\n      <td>450.75000</td>\n      <td>1.097500</td>\n      <td>0.000000</td>\n      <td>26.770000</td>\n      <td>14.875000</td>\n      <td>4.170000</td>\n      <td>1.010000</td>\n      <td>40.000000</td>\n      <td>0.000000</td>\n      <td>0.000000</td>\n      <td>0.000000</td>\n      <td>0.120000</td>\n      <td>0.455000</td>\n      <td>8.000000</td>\n      <td>4.000000</td>\n      <td>2.000000</td>\n      <td>1.000000</td>\n      <td>1.000000</td>\n    </tr>\n    <tr>\n      <th>50%</th>\n      <td>900.50000</td>\n      <td>4.070000</td>\n      <td>0.000000</td>\n      <td>37.245000</td>\n      <td>26.550000</td>\n      <td>10.105000</td>\n      <td>1.040000</td>\n      <td>180.500000</td>\n      <td>0.000000</td>\n      <td>0.000000</td>\n      <td>0.000000</td>\n      <td>0.800000</td>\n      <td>1.990000</td>\n      <td>46.500000</td>\n      <td>23.000000</td>\n      <td>13.000000</td>\n      <td>9.000000</td>\n      <td>6.000000</td>\n    </tr>\n    <tr>\n      <th>75%</th>\n      <td>1350.25000</td>\n      <td>18.127500</td>\n      <td>0.000000</td>\n      <td>45.967500</td>\n      <td>36.530000</td>\n      <td>15.380000</td>\n      <td>1.090000</td>\n      <td>902.250000</td>\n      <td>0.000000</td>\n      <td>0.000000</td>\n      <td>0.000000</td>\n      <td>1.190000</td>\n      <td>3.190000</td>\n      <td>357.000000</td>\n      <td>165.500000</td>\n      <td>94.250000</td>\n      <td>65.000000</td>\n      <td>40.250000</td>\n    </tr>\n    <tr>\n      <th>max</th>\n      <td>1800.00000</td>\n      <td>24680.510000</td>\n      <td>41.010000</td>\n      <td>100.000000</td>\n      <td>100.000000</td>\n      <td>100.000000</td>\n      <td>3.090000</td>\n      <td>430061.000000</td>\n      <td>184006.000000</td>\n      <td>8000.000000</td>\n      <td>133.550000</td>\n      <td>9.930000</td>\n      <td>100.000000</td>\n      <td>333920.000000</td>\n      <td>180048.000000</td>\n      <td>120477.000000</td>\n      <td>93521.000000</td>\n      <td>64046.000000</td>\n    </tr>\n  </tbody>\n</table>\n</div>"
     },
     "execution_count": 17,
     "metadata": {},
     "output_type": "execute_result"
    }
   ],
   "source": [
    "df.describe()"
   ],
   "metadata": {
    "collapsed": false,
    "ExecuteTime": {
     "end_time": "2025-07-18T18:21:33.175036Z",
     "start_time": "2025-07-18T18:21:33.013686Z"
    }
   }
  },
  {
   "cell_type": "code",
   "execution_count": 18,
   "outputs": [
    {
     "name": "stdout",
     "output_type": "stream",
     "text": [
      "Column: max_roas\n",
      "Non-null rows: 1800\n",
      "Null (missing) rows: 0\n"
     ]
    }
   ],
   "source": [
    "#Check Specific Column\n",
    "column = 'max_roas'\n",
    "non_null_count = df[column].notna().sum()\n",
    "null_count = df[column].isna().sum()\n",
    "\n",
    "print(f\"Column: {column}\")\n",
    "print(f\"Non-null rows: {non_null_count}\")\n",
    "print(f\"Null (missing) rows: {null_count}\")"
   ],
   "metadata": {
    "collapsed": false,
    "ExecuteTime": {
     "end_time": "2025-07-18T18:21:33.272696700Z",
     "start_time": "2025-07-18T18:21:33.071617400Z"
    }
   }
  }
 ],
 "metadata": {
  "kernelspec": {
   "name": "python3",
   "language": "python",
   "display_name": "Python 3 (ipykernel)"
  }
 },
 "nbformat": 4,
 "nbformat_minor": 2
}
