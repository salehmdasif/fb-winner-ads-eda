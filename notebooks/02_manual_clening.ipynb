{
 "cells": [
  {
   "cell_type": "code",
   "execution_count": 45,
   "metadata": {
    "collapsed": true,
    "ExecuteTime": {
     "end_time": "2025-07-18T18:21:34.840787500Z",
     "start_time": "2025-07-18T18:21:34.793558600Z"
    }
   },
   "outputs": [
    {
     "name": "stdout",
     "output_type": "stream",
     "text": [
      "Number of rows and columns: (1800, 20)\n"
     ]
    },
    {
     "data": {
      "text/plain": "   serial     ad_name ad_set_name  amount_spent  max_roas  scroll_stop_30  \\\n0       1   ad_id_662  ad_set_034          0.00       0.0            0.00   \n1       2  ad_id_1598  ad_set_114          0.00       0.0            0.00   \n2       3  ad_id_1412  ad_set_010          0.00       0.0            0.00   \n3       4   ad_id_369  ad_set_007         40.48       0.0           45.17   \n4       5   ad_id_239  ad_set_010         41.96       0.0           50.00   \n\n   hook_hold_rate_40  hold_rate_20  frequency  reach  results  result_rate  \\\n0               0.00          0.00       0.00      0        0          0.0   \n1               0.00          0.00       0.00      0        0          0.0   \n2               0.00          0.00       0.00      0        0          0.0   \n3              43.34         19.58       1.26    675        0          0.0   \n4              41.39         20.69       1.31    728        0          0.0   \n\n   cpr   cpc   ctr  3_sec_video  25_play  50_play  75_play  100_play  \n0  0.0  0.00  0.00            0        0        0        0         0  \n1  0.0  0.00  0.00            0        0        0        0         0  \n2  0.0  0.00  0.00            0        0        0        0         0  \n3  0.0  1.56  3.07          383      208      134      101        59  \n4  0.0  1.23  3.57          476      251      157      125        75  ",
      "text/html": "<div>\n<style scoped>\n    .dataframe tbody tr th:only-of-type {\n        vertical-align: middle;\n    }\n\n    .dataframe tbody tr th {\n        vertical-align: top;\n    }\n\n    .dataframe thead th {\n        text-align: right;\n    }\n</style>\n<table border=\"1\" class=\"dataframe\">\n  <thead>\n    <tr style=\"text-align: right;\">\n      <th></th>\n      <th>serial</th>\n      <th>ad_name</th>\n      <th>ad_set_name</th>\n      <th>amount_spent</th>\n      <th>max_roas</th>\n      <th>scroll_stop_30</th>\n      <th>hook_hold_rate_40</th>\n      <th>hold_rate_20</th>\n      <th>frequency</th>\n      <th>reach</th>\n      <th>results</th>\n      <th>result_rate</th>\n      <th>cpr</th>\n      <th>cpc</th>\n      <th>ctr</th>\n      <th>3_sec_video</th>\n      <th>25_play</th>\n      <th>50_play</th>\n      <th>75_play</th>\n      <th>100_play</th>\n    </tr>\n  </thead>\n  <tbody>\n    <tr>\n      <th>0</th>\n      <td>1</td>\n      <td>ad_id_662</td>\n      <td>ad_set_034</td>\n      <td>0.00</td>\n      <td>0.0</td>\n      <td>0.00</td>\n      <td>0.00</td>\n      <td>0.00</td>\n      <td>0.00</td>\n      <td>0</td>\n      <td>0</td>\n      <td>0.0</td>\n      <td>0.0</td>\n      <td>0.00</td>\n      <td>0.00</td>\n      <td>0</td>\n      <td>0</td>\n      <td>0</td>\n      <td>0</td>\n      <td>0</td>\n    </tr>\n    <tr>\n      <th>1</th>\n      <td>2</td>\n      <td>ad_id_1598</td>\n      <td>ad_set_114</td>\n      <td>0.00</td>\n      <td>0.0</td>\n      <td>0.00</td>\n      <td>0.00</td>\n      <td>0.00</td>\n      <td>0.00</td>\n      <td>0</td>\n      <td>0</td>\n      <td>0.0</td>\n      <td>0.0</td>\n      <td>0.00</td>\n      <td>0.00</td>\n      <td>0</td>\n      <td>0</td>\n      <td>0</td>\n      <td>0</td>\n      <td>0</td>\n    </tr>\n    <tr>\n      <th>2</th>\n      <td>3</td>\n      <td>ad_id_1412</td>\n      <td>ad_set_010</td>\n      <td>0.00</td>\n      <td>0.0</td>\n      <td>0.00</td>\n      <td>0.00</td>\n      <td>0.00</td>\n      <td>0.00</td>\n      <td>0</td>\n      <td>0</td>\n      <td>0.0</td>\n      <td>0.0</td>\n      <td>0.00</td>\n      <td>0.00</td>\n      <td>0</td>\n      <td>0</td>\n      <td>0</td>\n      <td>0</td>\n      <td>0</td>\n    </tr>\n    <tr>\n      <th>3</th>\n      <td>4</td>\n      <td>ad_id_369</td>\n      <td>ad_set_007</td>\n      <td>40.48</td>\n      <td>0.0</td>\n      <td>45.17</td>\n      <td>43.34</td>\n      <td>19.58</td>\n      <td>1.26</td>\n      <td>675</td>\n      <td>0</td>\n      <td>0.0</td>\n      <td>0.0</td>\n      <td>1.56</td>\n      <td>3.07</td>\n      <td>383</td>\n      <td>208</td>\n      <td>134</td>\n      <td>101</td>\n      <td>59</td>\n    </tr>\n    <tr>\n      <th>4</th>\n      <td>5</td>\n      <td>ad_id_239</td>\n      <td>ad_set_010</td>\n      <td>41.96</td>\n      <td>0.0</td>\n      <td>50.00</td>\n      <td>41.39</td>\n      <td>20.69</td>\n      <td>1.31</td>\n      <td>728</td>\n      <td>0</td>\n      <td>0.0</td>\n      <td>0.0</td>\n      <td>1.23</td>\n      <td>3.57</td>\n      <td>476</td>\n      <td>251</td>\n      <td>157</td>\n      <td>125</td>\n      <td>75</td>\n    </tr>\n  </tbody>\n</table>\n</div>"
     },
     "execution_count": 45,
     "metadata": {},
     "output_type": "execute_result"
    }
   ],
   "source": [
    "import pandas as pd\n",
    "\n",
    "# Step 1: Load your cleaned DataFrame\n",
    "df = pd.read_csv(\"../data/basic_cleaned_raw_data.csv\")\n",
    "print(f\"Number of rows and columns: {df.shape}\")\n",
    "df.head()"
   ]
  },
  {
   "cell_type": "code",
   "execution_count": 46,
   "outputs": [
    {
     "name": "stdout",
     "output_type": "stream",
     "text": [
      "Successfully Done.\n",
      "Remaining columns after dropping unnecessary columns: 20\n",
      "['serial', 'ad_name', 'ad_set_name', 'amount_spent', 'max_roas', 'scroll_stop_30', 'hook_hold_rate_40', 'hold_rate_20', 'frequency', 'reach', 'results', 'result_rate', 'cpr', 'cpc', 'ctr', '3_sec_video', '25_play', '50_play', '75_play', '100_play']\n"
     ]
    }
   ],
   "source": [
    "# Step 2: Drop unnecessary columns\n",
    "columns_to_drop = ['column_name','column_name']\n",
    "df.drop(columns=columns_to_drop, inplace=True, errors='ignore')\n",
    "print(\"Successfully Done.\")\n",
    "# Show remaining columns\n",
    "print(\"Remaining columns after dropping unnecessary columns:\", len(df.columns))\n",
    "print(df.columns.tolist())"
   ],
   "metadata": {
    "collapsed": false,
    "ExecuteTime": {
     "end_time": "2025-07-18T18:21:35.009794500Z",
     "start_time": "2025-07-18T18:21:34.840787500Z"
    }
   }
  },
  {
   "cell_type": "code",
   "execution_count": 47,
   "outputs": [
    {
     "name": "stdout",
     "output_type": "stream",
     "text": [
      "Successfully Done.\n",
      "['serial', 'ad_name', 'ad_set_name', 'amount_spent', 'max_roas', 'scroll_stop_(%)', 'hook_rate_(%)', 'hold_rate_(%)', 'frequency', 'reach', 'results', 'result_rate_(%)', 'cpr', 'cpc', 'ctr', '3_sec_video', '25_play', '50_play', '75_play', '100_play']\n"
     ]
    }
   ],
   "source": [
    "# Rename columns if required (Optional)\n",
    "rename_map = {\n",
    "    'scroll_stop_30' : 'scroll_stop_(%)',\n",
    "    'hook_hold_rate_40' : 'hook_rate_(%)',\n",
    "    'hold_rate_20' : 'hold_rate_(%)',\n",
    "    'result_rate' : 'result_rate_(%)'\n",
    "}\n",
    "df.rename(columns=rename_map, inplace=True)\n",
    "\n",
    "print(\"Successfully Done.\")\n",
    "print(df.columns.tolist())"
   ],
   "metadata": {
    "collapsed": false,
    "ExecuteTime": {
     "end_time": "2025-07-18T18:21:35.054248100Z",
     "start_time": "2025-07-18T18:21:34.887944600Z"
    }
   }
  },
  {
   "cell_type": "code",
   "execution_count": 48,
   "outputs": [
    {
     "name": "stdout",
     "output_type": "stream",
     "text": [
      "No column containing 'date' found.\n",
      "Failed to convert 'created_at' to datetime: 'created_at'\n",
      "Failed to convert 'published_on' to datetime: 'published_on'\n",
      "No columns were successfully converted to datetime.\n"
     ]
    }
   ],
   "source": [
    "# Step 1: Import the function\n",
    "import scripts.utils  # adjust if your path is different\n",
    "import importlib\n",
    "importlib.reload(scripts.utils)\n",
    "from scripts.utils import convert_columns_to_datetime\n",
    "\n",
    "# Auto-detect columns like 'created_date', 'event_date', etc.\n",
    "df = convert_columns_to_datetime(df)\n",
    "\n",
    "# OR, manually specify columns\n",
    "df = convert_columns_to_datetime(df, ['created_at', 'published_on'])"
   ],
   "metadata": {
    "collapsed": false,
    "ExecuteTime": {
     "end_time": "2025-07-18T18:21:35.087375700Z",
     "start_time": "2025-07-18T18:21:34.982109600Z"
    }
   }
  },
  {
   "cell_type": "code",
   "execution_count": 49,
   "outputs": [
    {
     "name": "stdout",
     "output_type": "stream",
     "text": [
      "No critical columns defined.\n"
     ]
    }
   ],
   "source": [
    "# Step 3: Define only the columns that are critical columns and must NOT be missing\n",
    "critical_columns = []  # Update as needed\n",
    "\n",
    "try:\n",
    "    if not critical_columns:\n",
    "        print(\"No critical columns defined.\")\n",
    "    else:\n",
    "        # Check original row count\n",
    "        before_drop = df.shape[0]\n",
    "\n",
    "        # Drop rows with missing values in those columns only\n",
    "        df = df.dropna(subset=critical_columns)\n",
    "\n",
    "        # Check new row count\n",
    "        after_drop = df.shape[0]\n",
    "        dropped_rows = before_drop - after_drop\n",
    "        remaining_rows = after_drop\n",
    "\n",
    "        print(f\"Successfully Done. Dropped {dropped_rows} rows out of {before_drop}. Now remaining {remaining_rows}.\")\n",
    "except Exception as e:\n",
    "    print(f\"Error occurred while dropping rows: {e}\")"
   ],
   "metadata": {
    "collapsed": false,
    "ExecuteTime": {
     "end_time": "2025-07-18T18:21:35.087375700Z",
     "start_time": "2025-07-18T18:21:34.982109600Z"
    }
   }
  },
  {
   "cell_type": "code",
   "execution_count": 50,
   "outputs": [
    {
     "name": "stdout",
     "output_type": "stream",
     "text": [
      "Successfully Done. Dropped 1446 rows out of 1800. Now remaining 354.\n"
     ]
    }
   ],
   "source": [
    "# Step 4: Define only the columns that are critical columns and must NOT be 0 (Zero)\n",
    "critical_columns = ['amount_spent', 'max_roas']  # Use actual column names\n",
    "\n",
    "# Check original row count\n",
    "before_drop = df.shape[0]\n",
    "\n",
    "# Drop rows where any critical column has a value of 0\n",
    "df = df[~df[critical_columns].isin([0]).any(axis=1)]\n",
    "\n",
    "# Check new row count\n",
    "after_drop = df.shape[0]\n",
    "dropped_rows = before_drop - after_drop\n",
    "remaining_rows = after_drop\n",
    "\n",
    "print(f\"Successfully Done. Dropped {dropped_rows} rows out of {before_drop}. Now remaining {remaining_rows}.\")\n"
   ],
   "metadata": {
    "collapsed": false,
    "ExecuteTime": {
     "end_time": "2025-07-18T18:21:35.089776200Z",
     "start_time": "2025-07-18T18:21:34.984906300Z"
    }
   }
  },
  {
   "cell_type": "code",
   "execution_count": 51,
   "outputs": [
    {
     "name": "stdout",
     "output_type": "stream",
     "text": [
      "Successfully Done.\n"
     ]
    }
   ],
   "source": [
    "# Step 5: Handel the missing values for non-critical columns\n",
    "from scripts.utils import fill_missing_values\n",
    "df = fill_missing_values(df)\n",
    "\n",
    "print(\"Successfully Done.\")"
   ],
   "metadata": {
    "collapsed": false,
    "ExecuteTime": {
     "end_time": "2025-07-18T18:21:35.233752600Z",
     "start_time": "2025-07-18T18:21:35.029435600Z"
    }
   }
  },
  {
   "cell_type": "code",
   "execution_count": 52,
   "outputs": [
    {
     "name": "stdout",
     "output_type": "stream",
     "text": [
      "Cleaned and saved data successfully.\n",
      "Number of rows: 354\n",
      "Number of columns: 20\n"
     ]
    }
   ],
   "source": [
    "# Step 6: Save Clean Data in new file and check how much data is left\n",
    "df.to_csv(\"../data/advance_cleaned_raw_data.csv\", index=False)\n",
    "\n",
    "print(\"Cleaned and saved data successfully.\")\n",
    "print(\"Number of rows:\", df.shape[0])\n",
    "print(\"Number of columns:\", df.shape[1])"
   ],
   "metadata": {
    "collapsed": false,
    "ExecuteTime": {
     "end_time": "2025-07-18T18:21:35.280959400Z",
     "start_time": "2025-07-18T18:21:35.060754200Z"
    }
   }
  }
 ],
 "metadata": {
  "kernelspec": {
   "display_name": "Python 3",
   "language": "python",
   "name": "python3"
  },
  "language_info": {
   "codemirror_mode": {
    "name": "ipython",
    "version": 2
   },
   "file_extension": ".py",
   "mimetype": "text/x-python",
   "name": "python",
   "nbconvert_exporter": "python",
   "pygments_lexer": "ipython2",
   "version": "2.7.6"
  }
 },
 "nbformat": 4,
 "nbformat_minor": 0
}
